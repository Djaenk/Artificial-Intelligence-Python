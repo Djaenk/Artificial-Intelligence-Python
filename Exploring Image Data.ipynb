{
 "metadata": {
  "language_info": {
   "codemirror_mode": {
    "name": "ipython",
    "version": 3
   },
   "file_extension": ".py",
   "mimetype": "text/x-python",
   "name": "python",
   "nbconvert_exporter": "python",
   "pygments_lexer": "ipython3",
   "version": 3
  },
  "orig_nbformat": 2
 },
 "nbformat": 4,
 "nbformat_minor": 2,
 "cells": [
  {
   "source": [
    "# Lab Assignment Two: Exploring Table Data\n",
    "\n",
    "CS 7324\n",
    "\n",
    "2021-03-07\n",
    "\n",
    "Anthony Wang"
   ],
   "cell_type": "markdown",
   "metadata": {}
  },
  {
   "source": [
    "## Business Understanding\n",
    "\n",
    "[This image dataset](https://www.kaggle.com/crowww/a-large-scale-fish-dataset) is a collection of pictures taken of nine types of seafood in a Turkish supermarket. The seafood include gilt head bream, red sea bream, sea bass, red mullet, horse mackerel, black sea sprat, striped red mullet, trout, and shrimp. The dataset contains one thousand 590 px by 445 px images of of each, but this analysis will use only two hundred images of each type for computational timeliness.\n",
    "\n",
    "[These pictures were taken specifically for feature extracdtion and species classification purposes](https://ieeexplore.ieee.org/abstract/document/9259867), and that is what this analysis will do. Such data could be used to develop machinery that could automatically sort fish using cameras. This would be useful to markets and fisheries which would need to dedicated less workers to manually sorting fish. In this use case, any classification accuracy better than randomness would be useful. Time spent correcting misclassifications would still be less than the time spent inspecting every single fish. If a model works well enough to identify live fish in their aquatic environment, biologists could use images taken in oceans and seas to estimate fish populations and do what they will with that information. Again, as long as classification accuracy is an improvement over random classification, there would be a time benefit to using such a model."
   ],
   "cell_type": "markdown",
   "metadata": {}
  }
 ]
}